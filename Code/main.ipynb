{
 "cells": [
  {
   "cell_type": "code",
   "execution_count": 1,
   "metadata": {},
   "outputs": [],
   "source": [
    "import pandas as pd"
   ]
  },
  {
   "cell_type": "code",
   "execution_count": 2,
   "metadata": {},
   "outputs": [
    {
     "data": {
      "text/plain": [
       "Area Code       164468\n",
       "Area            164468\n",
       "Item Code       164468\n",
       "Item            164468\n",
       "Element Code    164468\n",
       "Element         164468\n",
       "Year Code       164468\n",
       "Year            164468\n",
       "Unit            164468\n",
       "Value           164468\n",
       "Flag            164468\n",
       "dtype: int64"
      ]
     },
     "execution_count": 2,
     "metadata": {},
     "output_type": "execute_result"
    }
   ],
   "source": [
    "product_data = \"../data/FertilizersProduct.csv\"\n",
    "product_data_df = pd.read_csv(product_data, encoding=\"ISO-8859-1\")\n",
    "\n",
    "#checking that the number of rows match\n",
    "product_data_df.count()\n"
   ]
  },
  {
   "cell_type": "code",
   "execution_count": 4,
   "metadata": {},
   "outputs": [],
   "source": [
    "#removing rows that contain the unit tonnes to obtain data that contains only the price\n",
    "product_data_df = product_data_df[product_data_df[\"Unit\"].str.contains(\"tonnes\")==False]\n",
    "\n",
    "product_data_df.to_csv('../transformed_data/FertilizerProduct.csv')"
   ]
  },
  {
   "cell_type": "code",
   "execution_count": 5,
   "metadata": {},
   "outputs": [],
   "source": [
    "crop_data = \"../data/cereal-crop-yield-vs-fertilizer-application.csv\"\n",
    "crop_data_df = pd.read_csv(crop_data, encoding=\"ISO-8859-1\")\n",
    "\n",
    "#dropping rows that does not contain any information\n",
    "crop_data_df = crop_data_df.dropna(how='any')\n",
    "crop_data_df.to_csv('../transformed_data/cereal-crop-yield-vs-fertilizer-application.csv')"
   ]
  },
  {
   "cell_type": "code",
   "execution_count": 6,
   "metadata": {},
   "outputs": [],
   "source": [
    "application_data = \"../data/fertilizer-application-rates-over-the-long-run.csv\"\n",
    "application_data_df = pd.read_csv(application_data, encoding=\"ISO-8859-1\")\n",
    "\n",
    "#dropping rows that does not contain any information\n",
    "application_data_df = application_data_df.dropna(how='any')\n",
    "application_data_df.to_csv('../transformed_data/fertilizer-application-rates-over-the-long-run.csv')"
   ]
  },
  {
   "cell_type": "code",
   "execution_count": 7,
   "metadata": {},
   "outputs": [],
   "source": [
    "nitrogen_consumption =\"../data/nitrogen fertilizer use per hectare of crapland 2017.csv\"\n",
    "nitrogen_consumption_df= pd.read_csv(nitrogen_consumption)\n",
    "\n",
    "#dropping rows that does not contain any information\n",
    "nitrogen_consumption_df = nitrogen_consumption_df.dropna(how='any')\n",
    "nitrogen_consumption_df.to_csv('../transformed_data/nitrogen fertilizer use per hectare of crapland 2017.csv')"
   ]
  },
  {
   "cell_type": "code",
   "execution_count": 8,
   "metadata": {},
   "outputs": [],
   "source": [
    "usage_data = \"../data/fertilizer-use-in-kg-per-hectare-of-arable-land.csv\"\n",
    "usage_data_df = pd.read_csv(usage_data, encoding=\"ISO-8859-1\")\n",
    "\n",
    "usage_data_df = usage_data_df.dropna(how='any')\n",
    "usage_data_df.to_csv('../transformed_data/fertilizer-use-in-kg-per-hectare-of-arable-land.csv')"
   ]
  },
  {
   "cell_type": "code",
   "execution_count": 9,
   "metadata": {},
   "outputs": [],
   "source": [
    "global_consumption =\"../data/global-consumption-usda.csv\"\n",
    "global_consumption_df= pd.read_csv(global_consumption)\n",
    "\n",
    "global_consumption_df = global_consumption_df.dropna(how='any')\n",
    "global_consumption_df.to_csv('../transformed_data/global-consumption-usda.csv')"
   ]
  },
  {
   "cell_type": "code",
   "execution_count": 10,
   "metadata": {},
   "outputs": [],
   "source": [
    "phosphate_path = \"../data/phosphate fertilizer use per hectare of cropland 2017.csv\"\n",
    "potassium_path = \"../data/potassium use per hectare of cropland 2017.csv\"\n",
    "\n",
    "phosphate_df = pd.read_csv(phosphate_path)\n",
    "potassium_df = pd.read_csv(potassium_path)\n",
    "\n",
    "combined_df = pd.merge(phosphate_df, potassium_df, how='outer')\n",
    "\n",
    "combined_df.to_csv('../transformed_data/potassium_phosphate.csv')"
   ]
  },
  {
   "cell_type": "code",
   "execution_count": null,
   "metadata": {},
   "outputs": [],
   "source": []
  }
 ],
 "metadata": {
  "interpreter": {
   "hash": "40d3a090f54c6569ab1632332b64b2c03c39dcf918b08424e98f38b5ae0af88f"
  },
  "kernelspec": {
   "display_name": "Python 3.9.12 ('base')",
   "language": "python",
   "name": "python3"
  },
  "language_info": {
   "codemirror_mode": {
    "name": "ipython",
    "version": 3
   },
   "file_extension": ".py",
   "mimetype": "text/x-python",
   "name": "python",
   "nbconvert_exporter": "python",
   "pygments_lexer": "ipython3",
   "version": "3.9.12"
  },
  "orig_nbformat": 4
 },
 "nbformat": 4,
 "nbformat_minor": 2
}
